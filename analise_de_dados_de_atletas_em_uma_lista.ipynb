{
  "nbformat": 4,
  "nbformat_minor": 0,
  "metadata": {
    "colab": {
      "provenance": [],
      "authorship_tag": "ABX9TyOFw36nRS+0WDnpvbtrD8Lj",
      "include_colab_link": true
    },
    "kernelspec": {
      "name": "python3",
      "display_name": "Python 3"
    },
    "language_info": {
      "name": "python"
    }
  },
  "cells": [
    {
      "cell_type": "markdown",
      "metadata": {
        "id": "view-in-github",
        "colab_type": "text"
      },
      "source": [
        "<a href=\"https://colab.research.google.com/github/felipemt267/Projeto-laranja-e-toranjas/blob/main/analise_de_dados_de_atletas_em_uma_lista.ipynb\" target=\"_parent\"><img src=\"https://colab.research.google.com/assets/colab-badge.svg\" alt=\"Open In Colab\"/></a>"
      ]
    },
    {
      "cell_type": "code",
      "execution_count": 16,
      "metadata": {
        "id": "oSUJGEU0D6bw"
      },
      "outputs": [],
      "source": [
        "atletas = [\n",
        "    [\"Maria Silva\", 1.75, 65],\n",
        "    [\"João Santos\", 1.80, 72],\n",
        "    [\"Ana Pereira\", 1.68, 58],\n",
        "    [\"Pedro Oliveira\", 1.92, 85],\n",
        "    [\"Carlos Lima\", 1.85, 78],\n",
        "    [\"Beatriz Souza\", 1.70, 60],\n",
        "    [\"Fernanda Costa\", 1.62, 55],\n",
        "    [\"Lucas Almeida\", 1.88, 82],\n",
        "    [\"Rafaela Gomes\", 1.74, 63],\n",
        "    [\"Gustavo Ferreira\", 1.90, 88],\n",
        "    [\"Larissa Rocha\", 1.66, 57],\n",
        "    [\"Henrique Nunes\", 1.83, 76],\n",
        "    [\"Juliana Martins\", 1.72, 80],\n",
        "    [\"Ricardo Carvalho\", 1.86, 80],\n",
        "    [\"Sofia Alves\", 1.64, 54],\n",
        "    [\"Matheus Ribeiro\", 1.89, 84],\n",
        "    [\"Camila Duarte\", 1.69, 80],\n",
        "    [\"Gabriel Monteiro\", 1.77, 73],\n",
        "    [\"Eduarda Farias\", 1.71, 62],\n",
        "    [\"Thiago Mendes\", 1.84, 79],\n",
        "]"
      ]
    },
    {
      "cell_type": "markdown",
      "source": [
        "Utilizando um loop for, crie um programa que processe a lista atletas e para cada atleta, imprima as informações no seguinte formato:"
      ],
      "metadata": {
        "id": "5u5HpBQhEZkU"
      }
    },
    {
      "cell_type": "code",
      "source": [
        "for atleta in atletas:\n",
        "   nome = atleta[0]\n",
        "   altura = atleta[1]\n",
        "   peso = atleta[2]\n",
        "\n",
        "   print(f'Nome:{atleta[0]}')\n",
        "   print(f'Altura:{atleta[1]} M')\n",
        "   print(f'Peso:{atleta[2]} KG')\n",
        "   print('-'*20)"
      ],
      "metadata": {
        "colab": {
          "base_uri": "https://localhost:8080/"
        },
        "collapsed": true,
        "id": "3_ZkJWo_EaUP",
        "outputId": "9890ce00-cae7-4d1b-8594-b792e18cfa13"
      },
      "execution_count": 17,
      "outputs": [
        {
          "output_type": "stream",
          "name": "stdout",
          "text": [
            "Nome:Maria Silva\n",
            "Altura:1.75 M\n",
            "Peso:65 KG\n",
            "--------------------\n",
            "Nome:João Santos\n",
            "Altura:1.8 M\n",
            "Peso:72 KG\n",
            "--------------------\n",
            "Nome:Ana Pereira\n",
            "Altura:1.68 M\n",
            "Peso:58 KG\n",
            "--------------------\n",
            "Nome:Pedro Oliveira\n",
            "Altura:1.92 M\n",
            "Peso:85 KG\n",
            "--------------------\n",
            "Nome:Carlos Lima\n",
            "Altura:1.85 M\n",
            "Peso:78 KG\n",
            "--------------------\n",
            "Nome:Beatriz Souza\n",
            "Altura:1.7 M\n",
            "Peso:60 KG\n",
            "--------------------\n",
            "Nome:Fernanda Costa\n",
            "Altura:1.62 M\n",
            "Peso:55 KG\n",
            "--------------------\n",
            "Nome:Lucas Almeida\n",
            "Altura:1.88 M\n",
            "Peso:82 KG\n",
            "--------------------\n",
            "Nome:Rafaela Gomes\n",
            "Altura:1.74 M\n",
            "Peso:63 KG\n",
            "--------------------\n",
            "Nome:Gustavo Ferreira\n",
            "Altura:1.9 M\n",
            "Peso:88 KG\n",
            "--------------------\n",
            "Nome:Larissa Rocha\n",
            "Altura:1.66 M\n",
            "Peso:57 KG\n",
            "--------------------\n",
            "Nome:Henrique Nunes\n",
            "Altura:1.83 M\n",
            "Peso:76 KG\n",
            "--------------------\n",
            "Nome:Juliana Martins\n",
            "Altura:1.72 M\n",
            "Peso:80 KG\n",
            "--------------------\n",
            "Nome:Ricardo Carvalho\n",
            "Altura:1.86 M\n",
            "Peso:80 KG\n",
            "--------------------\n",
            "Nome:Sofia Alves\n",
            "Altura:1.64 M\n",
            "Peso:54 KG\n",
            "--------------------\n",
            "Nome:Matheus Ribeiro\n",
            "Altura:1.89 M\n",
            "Peso:84 KG\n",
            "--------------------\n",
            "Nome:Camila Duarte\n",
            "Altura:1.69 M\n",
            "Peso:80 KG\n",
            "--------------------\n",
            "Nome:Gabriel Monteiro\n",
            "Altura:1.77 M\n",
            "Peso:73 KG\n",
            "--------------------\n",
            "Nome:Eduarda Farias\n",
            "Altura:1.71 M\n",
            "Peso:62 KG\n",
            "--------------------\n",
            "Nome:Thiago Mendes\n",
            "Altura:1.84 M\n",
            "Peso:79 KG\n",
            "--------------------\n"
          ]
        }
      ]
    },
    {
      "cell_type": "markdown",
      "source": [
        "Criando uma lista de tuplas"
      ],
      "metadata": {
        "id": "APGrDJRgKGSQ"
      }
    },
    {
      "cell_type": "code",
      "source": [
        "atletas_tuplas = []\n",
        "\n",
        "for atleta in atletas:\n",
        "  nome = atleta[0]\n",
        "  altura = atleta[1]\n",
        "  peso = atleta[2]\n",
        "\n",
        "  atleta_tupla = (nome,altura,peso)\n",
        "  atletas_tuplas.append(atleta_tupla)\n",
        "\n",
        "print(atletas_tuplas)\n"
      ],
      "metadata": {
        "id": "IAXWaXoCGUR9",
        "colab": {
          "base_uri": "https://localhost:8080/"
        },
        "outputId": "18e2e653-b994-4710-8595-c28442a6ad63"
      },
      "execution_count": 18,
      "outputs": [
        {
          "output_type": "stream",
          "name": "stdout",
          "text": [
            "[('Maria Silva', 1.75, 65), ('João Santos', 1.8, 72), ('Ana Pereira', 1.68, 58), ('Pedro Oliveira', 1.92, 85), ('Carlos Lima', 1.85, 78), ('Beatriz Souza', 1.7, 60), ('Fernanda Costa', 1.62, 55), ('Lucas Almeida', 1.88, 82), ('Rafaela Gomes', 1.74, 63), ('Gustavo Ferreira', 1.9, 88), ('Larissa Rocha', 1.66, 57), ('Henrique Nunes', 1.83, 76), ('Juliana Martins', 1.72, 80), ('Ricardo Carvalho', 1.86, 80), ('Sofia Alves', 1.64, 54), ('Matheus Ribeiro', 1.89, 84), ('Camila Duarte', 1.69, 80), ('Gabriel Monteiro', 1.77, 73), ('Eduarda Farias', 1.71, 62), ('Thiago Mendes', 1.84, 79)]\n"
          ]
        }
      ]
    },
    {
      "cell_type": "code",
      "source": [
        "atletas"
      ],
      "metadata": {
        "id": "dehzm4oVKNb0",
        "colab": {
          "base_uri": "https://localhost:8080/"
        },
        "outputId": "6d3466de-e420-48ec-9577-1404f198b4d8"
      },
      "execution_count": 19,
      "outputs": [
        {
          "output_type": "execute_result",
          "data": {
            "text/plain": [
              "[['Maria Silva', 1.75, 65],\n",
              " ['João Santos', 1.8, 72],\n",
              " ['Ana Pereira', 1.68, 58],\n",
              " ['Pedro Oliveira', 1.92, 85],\n",
              " ['Carlos Lima', 1.85, 78],\n",
              " ['Beatriz Souza', 1.7, 60],\n",
              " ['Fernanda Costa', 1.62, 55],\n",
              " ['Lucas Almeida', 1.88, 82],\n",
              " ['Rafaela Gomes', 1.74, 63],\n",
              " ['Gustavo Ferreira', 1.9, 88],\n",
              " ['Larissa Rocha', 1.66, 57],\n",
              " ['Henrique Nunes', 1.83, 76],\n",
              " ['Juliana Martins', 1.72, 80],\n",
              " ['Ricardo Carvalho', 1.86, 80],\n",
              " ['Sofia Alves', 1.64, 54],\n",
              " ['Matheus Ribeiro', 1.89, 84],\n",
              " ['Camila Duarte', 1.69, 80],\n",
              " ['Gabriel Monteiro', 1.77, 73],\n",
              " ['Eduarda Farias', 1.71, 62],\n",
              " ['Thiago Mendes', 1.84, 79]]"
            ]
          },
          "metadata": {},
          "execution_count": 19
        }
      ]
    },
    {
      "cell_type": "markdown",
      "source": [
        "Utilizando list comprehension para calcular a media dos atletas"
      ],
      "metadata": {
        "id": "ctJXSa43ZbCx"
      }
    },
    {
      "cell_type": "code",
      "source": [
        "alturas = [atleta[1] for atleta in atletas]\n",
        "altura_media = sum(alturas) / len(alturas)\n",
        "\n",
        "print(f\"A altura média dos atletas é: {altura_media:.2f} metros\")"
      ],
      "metadata": {
        "colab": {
          "base_uri": "https://localhost:8080/"
        },
        "id": "ldmR0Qi0akN3",
        "outputId": "7c63272f-2998-44d0-b4e4-b614335bb351"
      },
      "execution_count": 20,
      "outputs": [
        {
          "output_type": "stream",
          "name": "stdout",
          "text": [
            "A altura média dos atletas é: 1.77 metros\n"
          ]
        }
      ]
    },
    {
      "cell_type": "code",
      "source": [
        "atletas"
      ],
      "metadata": {
        "colab": {
          "base_uri": "https://localhost:8080/"
        },
        "id": "__kx-zbka_VK",
        "outputId": "fb0b3037-3bf6-4a29-8742-4632d68ddad3"
      },
      "execution_count": 21,
      "outputs": [
        {
          "output_type": "execute_result",
          "data": {
            "text/plain": [
              "[['Maria Silva', 1.75, 65],\n",
              " ['João Santos', 1.8, 72],\n",
              " ['Ana Pereira', 1.68, 58],\n",
              " ['Pedro Oliveira', 1.92, 85],\n",
              " ['Carlos Lima', 1.85, 78],\n",
              " ['Beatriz Souza', 1.7, 60],\n",
              " ['Fernanda Costa', 1.62, 55],\n",
              " ['Lucas Almeida', 1.88, 82],\n",
              " ['Rafaela Gomes', 1.74, 63],\n",
              " ['Gustavo Ferreira', 1.9, 88],\n",
              " ['Larissa Rocha', 1.66, 57],\n",
              " ['Henrique Nunes', 1.83, 76],\n",
              " ['Juliana Martins', 1.72, 80],\n",
              " ['Ricardo Carvalho', 1.86, 80],\n",
              " ['Sofia Alves', 1.64, 54],\n",
              " ['Matheus Ribeiro', 1.89, 84],\n",
              " ['Camila Duarte', 1.69, 80],\n",
              " ['Gabriel Monteiro', 1.77, 73],\n",
              " ['Eduarda Farias', 1.71, 62],\n",
              " ['Thiago Mendes', 1.84, 79]]"
            ]
          },
          "metadata": {},
          "execution_count": 21
        }
      ]
    },
    {
      "cell_type": "markdown",
      "source": [
        "Nome dos atletas que possuem IMC maior que 25 e imprima essa lista."
      ],
      "metadata": {
        "id": "q_6DGnBfYdv4"
      }
    },
    {
      "cell_type": "code",
      "source": [
        "\n",
        "atletas_sobrepeso = [atleta[0] for atleta in atletas if (atleta[2] / (atleta[1] ** 2)) > 25]\n",
        "print(\"Atletas com IMC maior que 25:\")\n",
        "print(atletas_sobrepeso)"
      ],
      "metadata": {
        "colab": {
          "base_uri": "https://localhost:8080/"
        },
        "id": "JZXlsqTTbZFS",
        "outputId": "8e5b688f-071b-431c-eac5-fe8dc9ea3d1c"
      },
      "execution_count": 22,
      "outputs": [
        {
          "output_type": "stream",
          "name": "stdout",
          "text": [
            "Atletas com IMC maior que 25:\n",
            "['Juliana Martins', 'Camila Duarte']\n"
          ]
        }
      ]
    },
    {
      "cell_type": "markdown",
      "source": [
        "Classificando IMC dos atletas"
      ],
      "metadata": {
        "id": "6d4naAZDYaaI"
      }
    },
    {
      "cell_type": "code",
      "source": [
        "classificacao_imc = [\n",
        "    (atleta[0], 'Sobrepeso' if (atleta[2] / (atleta[1] ** 2)) > 25 else 'peso Nomral')\n",
        "    for atleta in atletas\n",
        "]\n",
        "print('Classificação do IMC:')\n",
        "print(classificacao_imc)"
      ],
      "metadata": {
        "id": "_GVrywPdcX2b",
        "colab": {
          "base_uri": "https://localhost:8080/"
        },
        "outputId": "5aaf3f80-623d-469e-bf48-1ac68eef16a4"
      },
      "execution_count": 25,
      "outputs": [
        {
          "output_type": "stream",
          "name": "stdout",
          "text": [
            "Classificação do IMC:\n",
            "[('Maria Silva', 'peso Nomral'), ('João Santos', 'peso Nomral'), ('Ana Pereira', 'peso Nomral'), ('Pedro Oliveira', 'peso Nomral'), ('Carlos Lima', 'peso Nomral'), ('Beatriz Souza', 'peso Nomral'), ('Fernanda Costa', 'peso Nomral'), ('Lucas Almeida', 'peso Nomral'), ('Rafaela Gomes', 'peso Nomral'), ('Gustavo Ferreira', 'peso Nomral'), ('Larissa Rocha', 'peso Nomral'), ('Henrique Nunes', 'peso Nomral'), ('Juliana Martins', 'Sobrepeso'), ('Ricardo Carvalho', 'peso Nomral'), ('Sofia Alves', 'peso Nomral'), ('Matheus Ribeiro', 'peso Nomral'), ('Camila Duarte', 'Sobrepeso'), ('Gabriel Monteiro', 'peso Nomral'), ('Eduarda Farias', 'peso Nomral'), ('Thiago Mendes', 'peso Nomral')]\n"
          ]
        }
      ]
    },
    {
      "cell_type": "code",
      "source": [],
      "metadata": {
        "id": "hX7mGqQOX2zI"
      },
      "execution_count": 23,
      "outputs": []
    }
  ]
}